{
 "cells": [
  {
   "cell_type": "code",
   "execution_count": 1,
   "id": "d320ba11-323f-49c1-ab88-c2d665b3e78d",
   "metadata": {},
   "outputs": [],
   "source": [
    "import numpy as np\n",
    "import pandas as pd\n",
    "from pydataset import data\n",
    "\n",
    "from sklearn.ensemble import RandomForestClassifier"
   ]
  },
  {
   "cell_type": "code",
   "execution_count": 2,
   "id": "bcbd687f-5e59-4e02-8399-76ed2c984c75",
   "metadata": {},
   "outputs": [],
   "source": [
    "from sklearn.metrics import accuracy_score, classification_report"
   ]
  },
  {
   "cell_type": "markdown",
   "id": "48cb9f12-473a-4679-a2aa-e838bd492654",
   "metadata": {},
   "source": [
    "**Planning phase** \n",
    "Let's examine the Iris dataset\n",
    "\n",
    "Can we accurately predict the species of Iris flower based on measurements recorded of the sepal and petals of the flowers?"
   ]
  },
  {
   "cell_type": "markdown",
   "id": "3dc3f1ee-b734-4197-b75d-a5f3943c71e4",
   "metadata": {},
   "source": [
    "**Acquisition** Let's get the iris dataset"
   ]
  },
  {
   "cell_type": "code",
   "execution_count": 3,
   "id": "7f2a4c07-cdd3-4617-aee7-3d47755b3378",
   "metadata": {},
   "outputs": [],
   "source": [
    "# get iris from the pydataset\n",
    "df = data('iris')"
   ]
  },
  {
   "cell_type": "code",
   "execution_count": 4,
   "id": "993100cf-c7a8-463f-9206-33763bdbce5c",
   "metadata": {},
   "outputs": [
    {
     "data": {
      "text/html": [
       "<div>\n",
       "<style scoped>\n",
       "    .dataframe tbody tr th:only-of-type {\n",
       "        vertical-align: middle;\n",
       "    }\n",
       "\n",
       "    .dataframe tbody tr th {\n",
       "        vertical-align: top;\n",
       "    }\n",
       "\n",
       "    .dataframe thead th {\n",
       "        text-align: right;\n",
       "    }\n",
       "</style>\n",
       "<table border=\"1\" class=\"dataframe\">\n",
       "  <thead>\n",
       "    <tr style=\"text-align: right;\">\n",
       "      <th></th>\n",
       "      <th>Sepal.Length</th>\n",
       "      <th>Sepal.Width</th>\n",
       "      <th>Petal.Length</th>\n",
       "      <th>Petal.Width</th>\n",
       "      <th>Species</th>\n",
       "    </tr>\n",
       "  </thead>\n",
       "  <tbody>\n",
       "    <tr>\n",
       "      <th>1</th>\n",
       "      <td>5.1</td>\n",
       "      <td>3.5</td>\n",
       "      <td>1.4</td>\n",
       "      <td>0.2</td>\n",
       "      <td>setosa</td>\n",
       "    </tr>\n",
       "    <tr>\n",
       "      <th>2</th>\n",
       "      <td>4.9</td>\n",
       "      <td>3.0</td>\n",
       "      <td>1.4</td>\n",
       "      <td>0.2</td>\n",
       "      <td>setosa</td>\n",
       "    </tr>\n",
       "  </tbody>\n",
       "</table>\n",
       "</div>"
      ],
      "text/plain": [
       "   Sepal.Length  Sepal.Width  Petal.Length  Petal.Width Species\n",
       "1           5.1          3.5           1.4          0.2  setosa\n",
       "2           4.9          3.0           1.4          0.2  setosa"
      ]
     },
     "execution_count": 4,
     "metadata": {},
     "output_type": "execute_result"
    }
   ],
   "source": [
    "df.head(2)"
   ]
  },
  {
   "cell_type": "markdown",
   "id": "615e8572-6efb-42fc-a726-226d1cdd019f",
   "metadata": {},
   "source": [
    "**Prep** Let's clean up our data set\n",
    "\n",
    "Rename the columns into something a little more legible"
   ]
  },
  {
   "cell_type": "code",
   "execution_count": 5,
   "id": "9f0b7a3e-0841-4876-85e5-b32901eb00e8",
   "metadata": {},
   "outputs": [],
   "source": [
    "# rename columns by assigning them into the df.columns property\n",
    "# we could also use the rename method\n",
    "df.columns = ['sepal_len', 'sepal_wid', 'petal_len', 'petal_wid', 'species']"
   ]
  },
  {
   "cell_type": "code",
   "execution_count": 6,
   "id": "df89fd7a-607c-4a57-af1e-1d1a0286e402",
   "metadata": {},
   "outputs": [
    {
     "name": "stdout",
     "output_type": "stream",
     "text": [
      "<class 'pandas.core.frame.DataFrame'>\n",
      "Int64Index: 150 entries, 1 to 150\n",
      "Data columns (total 5 columns):\n",
      " #   Column     Non-Null Count  Dtype  \n",
      "---  ------     --------------  -----  \n",
      " 0   sepal_len  150 non-null    float64\n",
      " 1   sepal_wid  150 non-null    float64\n",
      " 2   petal_len  150 non-null    float64\n",
      " 3   petal_wid  150 non-null    float64\n",
      " 4   species    150 non-null    object \n",
      "dtypes: float64(4), object(1)\n",
      "memory usage: 7.0+ KB\n"
     ]
    }
   ],
   "source": [
    "df.info()"
   ]
  },
  {
   "cell_type": "code",
   "execution_count": 7,
   "id": "075fb995-0236-402b-8aac-2a531e4f95ef",
   "metadata": {},
   "outputs": [],
   "source": [
    "# split the data"
   ]
  },
  {
   "cell_type": "code",
   "execution_count": 8,
   "id": "62f62d48-09a9-44dd-92e2-e488df0fe281",
   "metadata": {},
   "outputs": [],
   "source": [
    "from sklearn.model_selection import train_test_split"
   ]
  },
  {
   "cell_type": "code",
   "execution_count": 9,
   "id": "c72a4bee-e231-4fb7-81ce-c14393a0fc5d",
   "metadata": {},
   "outputs": [],
   "source": [
    "# split our data into train+validate set and our test set\n",
    "# we establish a training size of 80% of our data \n",
    "#\"train\" size here is train AND validate\n",
    "# set a random seed to replicate results in the future\n",
    "# stratify on our target to balance our data set for classification\n",
    "train_val, test = train_test_split(df,\n",
    "                                  train_size = 0.8,\n",
    "                                  random_state=1349,\n",
    "                                  stratify=df.species)"
   ]
  },
  {
   "cell_type": "code",
   "execution_count": 10,
   "id": "63913a9c-bde1-4018-9d6b-30c7cdd56dcb",
   "metadata": {},
   "outputs": [],
   "source": [
    "#repeat the process above to split train + validate\n",
    "# into train, and validate separately\n",
    "train, val = train_test_split(train_val,\n",
    "                                  train_size = 0.7,\n",
    "                                  random_state=1349,\n",
    "                                  stratify=train_val.species)"
   ]
  },
  {
   "cell_type": "code",
   "execution_count": 11,
   "id": "1c1e0ff4-51cd-4cd7-829f-6e825d22462a",
   "metadata": {},
   "outputs": [
    {
     "data": {
      "text/html": [
       "<div>\n",
       "<style scoped>\n",
       "    .dataframe tbody tr th:only-of-type {\n",
       "        vertical-align: middle;\n",
       "    }\n",
       "\n",
       "    .dataframe tbody tr th {\n",
       "        vertical-align: top;\n",
       "    }\n",
       "\n",
       "    .dataframe thead th {\n",
       "        text-align: right;\n",
       "    }\n",
       "</style>\n",
       "<table border=\"1\" class=\"dataframe\">\n",
       "  <thead>\n",
       "    <tr style=\"text-align: right;\">\n",
       "      <th></th>\n",
       "      <th>sepal_len</th>\n",
       "      <th>sepal_wid</th>\n",
       "      <th>petal_len</th>\n",
       "      <th>petal_wid</th>\n",
       "      <th>species</th>\n",
       "    </tr>\n",
       "  </thead>\n",
       "  <tbody>\n",
       "    <tr>\n",
       "      <th>139</th>\n",
       "      <td>6.0</td>\n",
       "      <td>3.0</td>\n",
       "      <td>4.8</td>\n",
       "      <td>1.8</td>\n",
       "      <td>virginica</td>\n",
       "    </tr>\n",
       "    <tr>\n",
       "      <th>8</th>\n",
       "      <td>5.0</td>\n",
       "      <td>3.4</td>\n",
       "      <td>1.5</td>\n",
       "      <td>0.2</td>\n",
       "      <td>setosa</td>\n",
       "    </tr>\n",
       "    <tr>\n",
       "      <th>80</th>\n",
       "      <td>5.7</td>\n",
       "      <td>2.6</td>\n",
       "      <td>3.5</td>\n",
       "      <td>1.0</td>\n",
       "      <td>versicolor</td>\n",
       "    </tr>\n",
       "    <tr>\n",
       "      <th>75</th>\n",
       "      <td>6.4</td>\n",
       "      <td>2.9</td>\n",
       "      <td>4.3</td>\n",
       "      <td>1.3</td>\n",
       "      <td>versicolor</td>\n",
       "    </tr>\n",
       "    <tr>\n",
       "      <th>98</th>\n",
       "      <td>6.2</td>\n",
       "      <td>2.9</td>\n",
       "      <td>4.3</td>\n",
       "      <td>1.3</td>\n",
       "      <td>versicolor</td>\n",
       "    </tr>\n",
       "  </tbody>\n",
       "</table>\n",
       "</div>"
      ],
      "text/plain": [
       "     sepal_len  sepal_wid  petal_len  petal_wid     species\n",
       "139        6.0        3.0        4.8        1.8   virginica\n",
       "8          5.0        3.4        1.5        0.2      setosa\n",
       "80         5.7        2.6        3.5        1.0  versicolor\n",
       "75         6.4        2.9        4.3        1.3  versicolor\n",
       "98         6.2        2.9        4.3        1.3  versicolor"
      ]
     },
     "execution_count": 11,
     "metadata": {},
     "output_type": "execute_result"
    }
   ],
   "source": [
    "train.head()"
   ]
  },
  {
   "cell_type": "code",
   "execution_count": 12,
   "id": "fddc2d7c-eeee-4a08-b99c-c28a662fca1e",
   "metadata": {},
   "outputs": [],
   "source": [
    "#split my X from my y"
   ]
  },
  {
   "cell_type": "code",
   "execution_count": 13,
   "id": "17a4f2f6-83c3-425c-8864-dfae45748381",
   "metadata": {},
   "outputs": [],
   "source": [
    "# x train is everything in the dataframe train that is NOT our target (y)\n",
    "X_train = train.drop(columns=['species'])\n",
    "# y train is everything in train that is our target (one column)\n",
    "# \n",
    "# using double brackets to define my y_train:\n",
    "# this allows us to define a single Series as a DataFrame, \n",
    "# rather than just a pd.Series object\n",
    "y_train = train[['species']]"
   ]
  },
  {
   "cell_type": "markdown",
   "id": "0bf26c34-f2d9-4032-b381-6fc0d823f438",
   "metadata": {},
   "source": [
    "**Notes from explore** :\n",
    "Petal length and width seemed to be the biggest drivers based on visual and statistical exploration, so we will chooose these two features as our primary/first features to feed into our models"
   ]
  },
  {
   "cell_type": "markdown",
   "id": "59801c92-99ee-4227-bfc1-d144193dc782",
   "metadata": {},
   "source": [
    "**Modeling**"
   ]
  },
  {
   "cell_type": "code",
   "execution_count": 14,
   "id": "79706a7b-1a23-4b5f-a25b-6613de1d10b8",
   "metadata": {},
   "outputs": [
    {
     "data": {
      "text/plain": [
       "pandas.core.frame.DataFrame"
      ]
     },
     "execution_count": 14,
     "metadata": {},
     "output_type": "execute_result"
    }
   ],
   "source": [
    "type(y_train)"
   ]
  },
  {
   "cell_type": "code",
   "execution_count": 15,
   "id": "e2fa83c7-f0b9-461c-a5d3-969c86c9e121",
   "metadata": {},
   "outputs": [
    {
     "data": {
      "text/plain": [
       "pandas.core.series.Series"
      ]
     },
     "execution_count": 15,
     "metadata": {},
     "output_type": "execute_result"
    }
   ],
   "source": [
    "type(train['species'])"
   ]
  },
  {
   "cell_type": "code",
   "execution_count": 16,
   "id": "e66e5eef-58f7-430a-8759-5bb2a66d0ec8",
   "metadata": {},
   "outputs": [
    {
     "data": {
      "text/plain": [
       "setosa        28\n",
       "versicolor    28\n",
       "virginica     28\n",
       "Name: species, dtype: int64"
      ]
     },
     "execution_count": 16,
     "metadata": {},
     "output_type": "execute_result"
    }
   ],
   "source": [
    "y_train.species.value_counts()"
   ]
  },
  {
   "cell_type": "code",
   "execution_count": 17,
   "id": "6b5e6a09-faf3-43a6-b6a2-c8592f5e1c09",
   "metadata": {},
   "outputs": [
    {
     "name": "stderr",
     "output_type": "stream",
     "text": [
      "<ipython-input-17-bb0d91c608b6>:1: SettingWithCopyWarning: \n",
      "A value is trying to be set on a copy of a slice from a DataFrame.\n",
      "Try using .loc[row_indexer,col_indexer] = value instead\n",
      "\n",
      "See the caveats in the documentation: https://pandas.pydata.org/pandas-docs/stable/user_guide/indexing.html#returning-a-view-versus-a-copy\n",
      "  y_train['baseline'] = 'setosa'\n"
     ]
    }
   ],
   "source": [
    "y_train['baseline'] = 'setosa'"
   ]
  },
  {
   "cell_type": "code",
   "execution_count": 18,
   "id": "b0213c1b-dc38-4c60-8f7b-51ac079bcc5c",
   "metadata": {},
   "outputs": [],
   "source": [
    "baseline_score = accuracy_score(y_train.species, y_train.baseline)"
   ]
  },
  {
   "cell_type": "code",
   "execution_count": 19,
   "id": "e861df04-67d7-425a-a88d-66ab33f51ffa",
   "metadata": {},
   "outputs": [
    {
     "data": {
      "text/plain": [
       "0.3333333333333333"
      ]
     },
     "execution_count": 19,
     "metadata": {},
     "output_type": "execute_result"
    }
   ],
   "source": [
    "baseline_score"
   ]
  },
  {
   "cell_type": "markdown",
   "id": "943cdbf5-9916-45e5-b0dc-bab92c354c46",
   "metadata": {},
   "source": [
    "**Model creation**"
   ]
  },
  {
   "cell_type": "markdown",
   "id": "af423e3b-c6ce-4de6-abd9-b6436950d181",
   "metadata": {},
   "source": [
    "step one:\n",
    "**Create the thing**\n",
    "step two:\n",
    "**fit the thing**\n",
    "step three:\n",
    "**use the thing**"
   ]
  },
  {
   "cell_type": "code",
   "execution_count": 20,
   "id": "75460736-d3f0-4873-8552-7de7687a8bdc",
   "metadata": {},
   "outputs": [],
   "source": [
    "# create the thing"
   ]
  },
  {
   "cell_type": "code",
   "execution_count": 21,
   "id": "9359636c-2f7a-49cc-a031-02bbc85e5c9d",
   "metadata": {},
   "outputs": [],
   "source": [
    "selected_feats = ['petal_wid', 'petal_len']"
   ]
  },
  {
   "cell_type": "code",
   "execution_count": 22,
   "id": "7f4e6fb1-a4d9-4d35-9ec6-47b4cd86f9ec",
   "metadata": {},
   "outputs": [],
   "source": [
    "# create the classifier object\n",
    "clf = RandomForestClassifier(random_state=1349)"
   ]
  },
  {
   "cell_type": "markdown",
   "id": "8c7d95de-5812-4dfa-b5d5-7513eea6dcf2",
   "metadata": {},
   "source": [
    "## Big important note:"
   ]
  },
  {
   "cell_type": "markdown",
   "id": "82c43373-d5ce-4a33-8431-e2655696dd1a",
   "metadata": {},
   "source": [
    "**ONLY FIT YOUR MODEL ON YOUR TRAINING DATA**"
   ]
  },
  {
   "cell_type": "code",
   "execution_count": 24,
   "id": "9497cad8-f590-4031-ba19-5f6160a72c03",
   "metadata": {},
   "outputs": [
    {
     "data": {
      "text/plain": [
       "['petal_wid', 'petal_len']"
      ]
     },
     "execution_count": 24,
     "metadata": {},
     "output_type": "execute_result"
    }
   ],
   "source": [
    "selected_feats"
   ]
  },
  {
   "cell_type": "code",
   "execution_count": 25,
   "id": "6d719dae-bd11-4e6b-95d0-a138eda14461",
   "metadata": {},
   "outputs": [
    {
     "data": {
      "text/plain": [
       "RandomForestClassifier(random_state=1349)"
      ]
     },
     "execution_count": 25,
     "metadata": {},
     "output_type": "execute_result"
    }
   ],
   "source": [
    "# fit the thing:\n",
    "# invoke the fit method, don't assign it to anything\n",
    "# this will train our model\n",
    "clf.fit(X_train[selected_feats], y_train.species)"
   ]
  },
  {
   "cell_type": "code",
   "execution_count": 28,
   "id": "f0e7659d-e218-4358-a725-87164d641e07",
   "metadata": {},
   "outputs": [
    {
     "name": "stderr",
     "output_type": "stream",
     "text": [
      "<ipython-input-28-cfe2261ede2e>:2: SettingWithCopyWarning: \n",
      "A value is trying to be set on a copy of a slice from a DataFrame.\n",
      "Try using .loc[row_indexer,col_indexer] = value instead\n",
      "\n",
      "See the caveats in the documentation: https://pandas.pydata.org/pandas-docs/stable/user_guide/indexing.html#returning-a-view-versus-a-copy\n",
      "  y_train['y_pred'] = clf.predict(X_train[selected_feats])\n"
     ]
    }
   ],
   "source": [
    "# use the thing!\n",
    "y_train['y_pred'] = clf.predict(X_train[selected_feats])"
   ]
  },
  {
   "cell_type": "code",
   "execution_count": 29,
   "id": "277d8b50-f9f6-46ad-b042-19035d0f7e2d",
   "metadata": {},
   "outputs": [
    {
     "data": {
      "text/html": [
       "<div>\n",
       "<style scoped>\n",
       "    .dataframe tbody tr th:only-of-type {\n",
       "        vertical-align: middle;\n",
       "    }\n",
       "\n",
       "    .dataframe tbody tr th {\n",
       "        vertical-align: top;\n",
       "    }\n",
       "\n",
       "    .dataframe thead th {\n",
       "        text-align: right;\n",
       "    }\n",
       "</style>\n",
       "<table border=\"1\" class=\"dataframe\">\n",
       "  <thead>\n",
       "    <tr style=\"text-align: right;\">\n",
       "      <th></th>\n",
       "      <th>species</th>\n",
       "      <th>baseline</th>\n",
       "      <th>y_pred</th>\n",
       "    </tr>\n",
       "  </thead>\n",
       "  <tbody>\n",
       "    <tr>\n",
       "      <th>139</th>\n",
       "      <td>virginica</td>\n",
       "      <td>setosa</td>\n",
       "      <td>virginica</td>\n",
       "    </tr>\n",
       "    <tr>\n",
       "      <th>8</th>\n",
       "      <td>setosa</td>\n",
       "      <td>setosa</td>\n",
       "      <td>setosa</td>\n",
       "    </tr>\n",
       "    <tr>\n",
       "      <th>80</th>\n",
       "      <td>versicolor</td>\n",
       "      <td>setosa</td>\n",
       "      <td>versicolor</td>\n",
       "    </tr>\n",
       "    <tr>\n",
       "      <th>75</th>\n",
       "      <td>versicolor</td>\n",
       "      <td>setosa</td>\n",
       "      <td>versicolor</td>\n",
       "    </tr>\n",
       "    <tr>\n",
       "      <th>98</th>\n",
       "      <td>versicolor</td>\n",
       "      <td>setosa</td>\n",
       "      <td>versicolor</td>\n",
       "    </tr>\n",
       "  </tbody>\n",
       "</table>\n",
       "</div>"
      ],
      "text/plain": [
       "        species baseline      y_pred\n",
       "139   virginica   setosa   virginica\n",
       "8        setosa   setosa      setosa\n",
       "80   versicolor   setosa  versicolor\n",
       "75   versicolor   setosa  versicolor\n",
       "98   versicolor   setosa  versicolor"
      ]
     },
     "execution_count": 29,
     "metadata": {},
     "output_type": "execute_result"
    }
   ],
   "source": [
    "y_train.head()"
   ]
  },
  {
   "cell_type": "code",
   "execution_count": 30,
   "id": "ac736be2-0589-4873-b12d-860e052525bf",
   "metadata": {},
   "outputs": [
    {
     "data": {
      "text/plain": [
       "1.0"
      ]
     },
     "execution_count": 30,
     "metadata": {},
     "output_type": "execute_result"
    }
   ],
   "source": [
    "accuracy_score(y_train.species, y_train.y_pred)"
   ]
  },
  {
   "cell_type": "code",
   "execution_count": 31,
   "id": "83bffb02-043a-4d21-a059-cd5be8bc4133",
   "metadata": {},
   "outputs": [],
   "source": [
    "# check the results against our holdout data:"
   ]
  },
  {
   "cell_type": "code",
   "execution_count": 32,
   "id": "96e7c711-ffb5-49cc-9df5-409a33242815",
   "metadata": {},
   "outputs": [],
   "source": [
    "# use the thing again, but on validate:"
   ]
  },
  {
   "cell_type": "code",
   "execution_count": 33,
   "id": "1f9fcb5e-3de6-443e-bcbf-b9c94b536856",
   "metadata": {},
   "outputs": [],
   "source": [
    "# separate X from y in validate\n",
    "X_val = val.drop(columns=['species'])\n",
    "y_val = val[['species']]"
   ]
  },
  {
   "cell_type": "code",
   "execution_count": 34,
   "id": "c5a8bd60-c44e-46a4-abc5-ceb3b1e9ab52",
   "metadata": {},
   "outputs": [],
   "source": [
    "# JUST use predict, not refitting the model"
   ]
  },
  {
   "cell_type": "code",
   "execution_count": 36,
   "id": "b432be9c-c4b3-46bf-b160-78633772f4da",
   "metadata": {},
   "outputs": [],
   "source": [
    "y_pred_val = clf.predict(X_val[selected_feats])"
   ]
  },
  {
   "cell_type": "code",
   "execution_count": 37,
   "id": "af4da317-0ba9-4dfa-b907-191c1277471a",
   "metadata": {},
   "outputs": [
    {
     "name": "stderr",
     "output_type": "stream",
     "text": [
      "<ipython-input-37-e8b2becae60d>:3: SettingWithCopyWarning: \n",
      "A value is trying to be set on a copy of a slice from a DataFrame.\n",
      "Try using .loc[row_indexer,col_indexer] = value instead\n",
      "\n",
      "See the caveats in the documentation: https://pandas.pydata.org/pandas-docs/stable/user_guide/indexing.html#returning-a-view-versus-a-copy\n",
      "  y_val['y_pred_val'] = y_pred_val\n"
     ]
    }
   ],
   "source": [
    "# assign the array y_pred_val that holds our predictions on \n",
    "# the validation set, into our y_validation target dataframe\n",
    "y_val['y_pred_val'] = y_pred_val"
   ]
  },
  {
   "cell_type": "code",
   "execution_count": 38,
   "id": "27cead33-6eeb-4315-9790-3a1ee4d8057d",
   "metadata": {},
   "outputs": [
    {
     "data": {
      "text/plain": [
       "0.9722222222222222"
      ]
     },
     "execution_count": 38,
     "metadata": {},
     "output_type": "execute_result"
    }
   ],
   "source": [
    "accuracy_score(y_val.species, y_val.y_pred_val)"
   ]
  },
  {
   "cell_type": "code",
   "execution_count": 42,
   "id": "4da84514-0e63-4c29-afc4-e3f226f78467",
   "metadata": {},
   "outputs": [
    {
     "data": {
      "text/html": [
       "<div>\n",
       "<style scoped>\n",
       "    .dataframe tbody tr th:only-of-type {\n",
       "        vertical-align: middle;\n",
       "    }\n",
       "\n",
       "    .dataframe tbody tr th {\n",
       "        vertical-align: top;\n",
       "    }\n",
       "\n",
       "    .dataframe thead th {\n",
       "        text-align: right;\n",
       "    }\n",
       "</style>\n",
       "<table border=\"1\" class=\"dataframe\">\n",
       "  <thead>\n",
       "    <tr style=\"text-align: right;\">\n",
       "      <th></th>\n",
       "      <th>precision</th>\n",
       "      <th>recall</th>\n",
       "      <th>f1-score</th>\n",
       "      <th>support</th>\n",
       "    </tr>\n",
       "  </thead>\n",
       "  <tbody>\n",
       "    <tr>\n",
       "      <th>setosa</th>\n",
       "      <td>1.000000</td>\n",
       "      <td>1.000000</td>\n",
       "      <td>1.000000</td>\n",
       "      <td>12.000000</td>\n",
       "    </tr>\n",
       "    <tr>\n",
       "      <th>versicolor</th>\n",
       "      <td>0.923077</td>\n",
       "      <td>1.000000</td>\n",
       "      <td>0.960000</td>\n",
       "      <td>12.000000</td>\n",
       "    </tr>\n",
       "    <tr>\n",
       "      <th>virginica</th>\n",
       "      <td>1.000000</td>\n",
       "      <td>0.916667</td>\n",
       "      <td>0.956522</td>\n",
       "      <td>12.000000</td>\n",
       "    </tr>\n",
       "    <tr>\n",
       "      <th>accuracy</th>\n",
       "      <td>0.972222</td>\n",
       "      <td>0.972222</td>\n",
       "      <td>0.972222</td>\n",
       "      <td>0.972222</td>\n",
       "    </tr>\n",
       "    <tr>\n",
       "      <th>macro avg</th>\n",
       "      <td>0.974359</td>\n",
       "      <td>0.972222</td>\n",
       "      <td>0.972174</td>\n",
       "      <td>36.000000</td>\n",
       "    </tr>\n",
       "    <tr>\n",
       "      <th>weighted avg</th>\n",
       "      <td>0.974359</td>\n",
       "      <td>0.972222</td>\n",
       "      <td>0.972174</td>\n",
       "      <td>36.000000</td>\n",
       "    </tr>\n",
       "  </tbody>\n",
       "</table>\n",
       "</div>"
      ],
      "text/plain": [
       "              precision    recall  f1-score    support\n",
       "setosa         1.000000  1.000000  1.000000  12.000000\n",
       "versicolor     0.923077  1.000000  0.960000  12.000000\n",
       "virginica      1.000000  0.916667  0.956522  12.000000\n",
       "accuracy       0.972222  0.972222  0.972222   0.972222\n",
       "macro avg      0.974359  0.972222  0.972174  36.000000\n",
       "weighted avg   0.974359  0.972222  0.972174  36.000000"
      ]
     },
     "execution_count": 42,
     "metadata": {},
     "output_type": "execute_result"
    }
   ],
   "source": [
    "pd.DataFrame(classification_report(y_val.species, \n",
    "                      y_val.y_pred_val, \n",
    "                      output_dict=True)).T"
   ]
  },
  {
   "cell_type": "code",
   "execution_count": null,
   "id": "2efb3715-5763-4bc8-b12c-b8d26658c9ca",
   "metadata": {},
   "outputs": [],
   "source": []
  }
 ],
 "metadata": {
  "kernelspec": {
   "display_name": "Python 3",
   "language": "python",
   "name": "python3"
  },
  "language_info": {
   "codemirror_mode": {
    "name": "ipython",
    "version": 3
   },
   "file_extension": ".py",
   "mimetype": "text/x-python",
   "name": "python",
   "nbconvert_exporter": "python",
   "pygments_lexer": "ipython3",
   "version": "3.9.4"
  }
 },
 "nbformat": 4,
 "nbformat_minor": 5
}
