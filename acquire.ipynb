{
 "cells": [
  {
   "cell_type": "markdown",
   "id": "734830bf-eef1-4d66-b887-78825c682b3a",
   "metadata": {},
   "source": [
    "# Data Acquisition"
   ]
  },
  {
   "cell_type": "code",
   "execution_count": null,
   "id": "09934346-a416-4ed4-adf7-a35173ccd121",
   "metadata": {},
   "outputs": [],
   "source": [
    "import pandas as pd"
   ]
  },
  {
   "cell_type": "markdown",
   "id": "9f8637ed-9c28-49f2-85c5-20cee330ec4d",
   "metadata": {},
   "source": [
    "## Reading from a Google Sheet\n",
    "\n",
    "Demo: innis_spreadsheet_exercises"
   ]
  },
  {
   "cell_type": "markdown",
   "id": "8f9defa6-d278-49a9-a037-93266f65a981",
   "metadata": {},
   "source": [
    "## Reading From a URL"
   ]
  },
  {
   "cell_type": "markdown",
   "id": "82b05130-03d3-42df-8d86-59499aa3b856",
   "metadata": {},
   "source": [
    "## Reading From SQL"
   ]
  },
  {
   "cell_type": "markdown",
   "id": "a116eb22-0b59-4a9c-81aa-fed8105e3d55",
   "metadata": {},
   "source": [
    "## Data Caching\n",
    "\n",
    "With a csv or json file."
   ]
  }
 ],
 "metadata": {
  "kernelspec": {
   "display_name": "Python 3",
   "language": "python",
   "name": "python3"
  },
  "language_info": {
   "codemirror_mode": {
    "name": "ipython",
    "version": 3
   },
   "file_extension": ".py",
   "mimetype": "text/x-python",
   "name": "python",
   "nbconvert_exporter": "python",
   "pygments_lexer": "ipython3",
   "version": "3.8.8"
  }
 },
 "nbformat": 4,
 "nbformat_minor": 5
}
