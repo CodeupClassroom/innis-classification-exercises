{
 "cells": [
  {
   "cell_type": "code",
   "execution_count": 1,
   "id": "9e820052-315e-408f-9c30-0efc66c2c66f",
   "metadata": {},
   "outputs": [],
   "source": [
    "import numpy as np\n",
    "import pandas as pd\n",
    "import warnings\n",
    "warnings.filterwarnings('ignore')\n",
    "from sklearn.model_selection import train_test_split\n",
    "from sklearn.metrics import accuracy_score, classification_report\n",
    "\n",
    "from sklearn.neighbors import KNeighborsClassifier as KNN"
   ]
  },
  {
   "cell_type": "code",
   "execution_count": 2,
   "id": "94fecdcd-71cf-4abc-8154-45ee1d83d34d",
   "metadata": {},
   "outputs": [],
   "source": [
    "from pydataset import data"
   ]
  },
  {
   "cell_type": "code",
   "execution_count": 3,
   "id": "afe3c9e2-b2ce-49b5-9821-26db45b92fd7",
   "metadata": {},
   "outputs": [],
   "source": [
    "# Planning: See if I can predict what species of iris flower\n",
    "# I am observing based on measurements taken on the plant petals and\n",
    "# sepals"
   ]
  },
  {
   "cell_type": "code",
   "execution_count": 4,
   "id": "de03445d-bb32-4759-97e2-1af483ba2f30",
   "metadata": {},
   "outputs": [],
   "source": [
    "# acquire:\n",
    "df = data('iris')"
   ]
  },
  {
   "cell_type": "code",
   "execution_count": 5,
   "id": "ff966e5a-e770-4601-8732-ce1572d8cada",
   "metadata": {},
   "outputs": [
    {
     "data": {
      "text/html": [
       "<div>\n",
       "<style scoped>\n",
       "    .dataframe tbody tr th:only-of-type {\n",
       "        vertical-align: middle;\n",
       "    }\n",
       "\n",
       "    .dataframe tbody tr th {\n",
       "        vertical-align: top;\n",
       "    }\n",
       "\n",
       "    .dataframe thead th {\n",
       "        text-align: right;\n",
       "    }\n",
       "</style>\n",
       "<table border=\"1\" class=\"dataframe\">\n",
       "  <thead>\n",
       "    <tr style=\"text-align: right;\">\n",
       "      <th></th>\n",
       "      <th>Sepal.Length</th>\n",
       "      <th>Sepal.Width</th>\n",
       "      <th>Petal.Length</th>\n",
       "      <th>Petal.Width</th>\n",
       "      <th>Species</th>\n",
       "    </tr>\n",
       "  </thead>\n",
       "  <tbody>\n",
       "    <tr>\n",
       "      <th>1</th>\n",
       "      <td>5.1</td>\n",
       "      <td>3.5</td>\n",
       "      <td>1.4</td>\n",
       "      <td>0.2</td>\n",
       "      <td>setosa</td>\n",
       "    </tr>\n",
       "    <tr>\n",
       "      <th>2</th>\n",
       "      <td>4.9</td>\n",
       "      <td>3.0</td>\n",
       "      <td>1.4</td>\n",
       "      <td>0.2</td>\n",
       "      <td>setosa</td>\n",
       "    </tr>\n",
       "    <tr>\n",
       "      <th>3</th>\n",
       "      <td>4.7</td>\n",
       "      <td>3.2</td>\n",
       "      <td>1.3</td>\n",
       "      <td>0.2</td>\n",
       "      <td>setosa</td>\n",
       "    </tr>\n",
       "  </tbody>\n",
       "</table>\n",
       "</div>"
      ],
      "text/plain": [
       "   Sepal.Length  Sepal.Width  Petal.Length  Petal.Width Species\n",
       "1           5.1          3.5           1.4          0.2  setosa\n",
       "2           4.9          3.0           1.4          0.2  setosa\n",
       "3           4.7          3.2           1.3          0.2  setosa"
      ]
     },
     "execution_count": 5,
     "metadata": {},
     "output_type": "execute_result"
    }
   ],
   "source": [
    "df.head(3)"
   ]
  },
  {
   "cell_type": "code",
   "execution_count": null,
   "id": "3832aa6d-77ea-44b5-a75c-9ef108dc027f",
   "metadata": {},
   "outputs": [],
   "source": [
    "# preparation"
   ]
  },
  {
   "cell_type": "code",
   "execution_count": 6,
   "id": "d1cef048-4cc2-419f-8c14-90bfdab9a7eb",
   "metadata": {},
   "outputs": [],
   "source": [
    "df.columns = ['sepal_len', 'sepal_wid', 'petal_len', 'petal_wid', 'species']"
   ]
  },
  {
   "cell_type": "code",
   "execution_count": 7,
   "id": "dba1b86d-f4fa-42a2-b092-bdc527c07882",
   "metadata": {},
   "outputs": [
    {
     "name": "stdout",
     "output_type": "stream",
     "text": [
      "<class 'pandas.core.frame.DataFrame'>\n",
      "Int64Index: 150 entries, 1 to 150\n",
      "Data columns (total 5 columns):\n",
      " #   Column     Non-Null Count  Dtype  \n",
      "---  ------     --------------  -----  \n",
      " 0   sepal_len  150 non-null    float64\n",
      " 1   sepal_wid  150 non-null    float64\n",
      " 2   petal_len  150 non-null    float64\n",
      " 3   petal_wid  150 non-null    float64\n",
      " 4   species    150 non-null    object \n",
      "dtypes: float64(4), object(1)\n",
      "memory usage: 7.0+ KB\n"
     ]
    }
   ],
   "source": [
    "df.info()"
   ]
  },
  {
   "cell_type": "code",
   "execution_count": 9,
   "id": "5bdbdb30-3c47-4f98-9900-81282e8172de",
   "metadata": {},
   "outputs": [
    {
     "name": "stdout",
     "output_type": "stream",
     "text": [
      "iris\n",
      "\n",
      "PyDataset Documentation (adopted from R Documentation. The displayed examples are in R)\n",
      "\n",
      "## Edgar Anderson's Iris Data\n",
      "\n",
      "### Description\n",
      "\n",
      "This famous (Fisher's or Anderson's) iris data set gives the measurements in\n",
      "centimeters of the variables sepal length and width and petal length and\n",
      "width, respectively, for 50 flowers from each of 3 species of iris. The\n",
      "species are _Iris setosa_, _versicolor_, and _virginica_.\n",
      "\n",
      "### Usage\n",
      "\n",
      "    iris\n",
      "    iris3\n",
      "\n",
      "### Format\n",
      "\n",
      "`iris` is a data frame with 150 cases (rows) and 5 variables (columns) named\n",
      "`Sepal.Length`, `Sepal.Width`, `Petal.Length`, `Petal.Width`, and `Species`.\n",
      "\n",
      "`iris3` gives the same data arranged as a 3-dimensional array of size 50 by 4\n",
      "by 3, as represented by S-PLUS. The first dimension gives the case number\n",
      "within the species subsample, the second the measurements with names `Sepal\n",
      "L.`, `Sepal W.`, `Petal L.`, and `Petal W.`, and the third the species.\n",
      "\n",
      "### Source\n",
      "\n",
      "Fisher, R. A. (1936) The use of multiple measurements in taxonomic problems.\n",
      "_Annals of Eugenics_, **7**, Part II, 179–188.\n",
      "\n",
      "The data were collected by Anderson, Edgar (1935). The irises of the Gaspe\n",
      "Peninsula, _Bulletin of the American Iris Society_, **59**, 2–5.\n",
      "\n",
      "### References\n",
      "\n",
      "Becker, R. A., Chambers, J. M. and Wilks, A. R. (1988) _The New S Language_.\n",
      "Wadsworth & Brooks/Cole. (has `iris3` as `iris`.)\n",
      "\n",
      "### See Also\n",
      "\n",
      "`matplot` some examples of which use `iris`.\n",
      "\n",
      "### Examples\n",
      "\n",
      "    dni3 <- dimnames(iris3)\n",
      "    ii <- data.frame(matrix(aperm(iris3, c(1,3,2)), ncol = 4,\n",
      "                            dimnames = list(NULL, sub(\" L.\",\".Length\",\n",
      "                                            sub(\" W.\",\".Width\", dni3[[2]])))),\n",
      "        Species = gl(3, 50, labels = sub(\"S\", \"s\", sub(\"V\", \"v\", dni3[[3]]))))\n",
      "    all.equal(ii, iris) # TRUE\n",
      "\n",
      "\n"
     ]
    }
   ],
   "source": [
    "data('iris', show_doc=True)"
   ]
  },
  {
   "cell_type": "code",
   "execution_count": 10,
   "id": "f3441d1d-2417-4ab2-a8f6-461db11f9f4c",
   "metadata": {},
   "outputs": [],
   "source": [
    "# exploration seemed indicative \n",
    "# of petal length and width being more valuable \n",
    "# than sepal length and width"
   ]
  },
  {
   "cell_type": "code",
   "execution_count": 11,
   "id": "db0efe64-393e-4302-9ad0-e71c4bac41b2",
   "metadata": {},
   "outputs": [],
   "source": [
    "train_val, test = train_test_split(df,\n",
    "                                  train_size=0.8,\n",
    "                                  stratify=df.species,\n",
    "                                  random_state=1349)\n",
    "\n",
    "train, validate = train_test_split(train_val,\n",
    "                                  train_size=0.7,\n",
    "                                  stratify=train_val.species,\n",
    "                                  random_state=1349)"
   ]
  },
  {
   "cell_type": "code",
   "execution_count": 12,
   "id": "170bc029-cb05-4faf-ad6b-26018a483eb3",
   "metadata": {},
   "outputs": [
    {
     "data": {
      "text/plain": [
       "((84, 5), (36, 5), (30, 5))"
      ]
     },
     "execution_count": 12,
     "metadata": {},
     "output_type": "execute_result"
    }
   ],
   "source": [
    "train.shape, validate.shape, test.shape"
   ]
  },
  {
   "cell_type": "code",
   "execution_count": 13,
   "id": "f2cea02e-a970-4be6-9606-47eea1163457",
   "metadata": {},
   "outputs": [],
   "source": [
    "import matplotlib.pyplot as plt\n",
    "import seaborn as sns"
   ]
  },
  {
   "cell_type": "code",
   "execution_count": 16,
   "id": "897d2f11-411e-4697-845a-acad6b2f4eb2",
   "metadata": {},
   "outputs": [
    {
     "data": {
      "image/png": "[encoded data removed]",
      "text/plain": [
       "<Figure size 432x288 with 1 Axes>"
      ]
     },
     "metadata": {
      "needs_background": "light"
     },
     "output_type": "display_data"
    }
   ],
   "source": [
    "sns.scatterplot(x='petal_len',\n",
    "                y='petal_wid',\n",
    "                hue='species',\n",
    "                data=train)\n",
    "plt.scatter(validate.petal_len, validate.petal_wid, marker='x', c='black')\n",
    "plt.show()"
   ]
  },
  {
   "cell_type": "code",
   "execution_count": 17,
   "id": "53f263a1-99f6-412e-ada8-e011b8d1fd7b",
   "metadata": {},
   "outputs": [],
   "source": [
    "# \n",
    "# euclidean distance:\n",
    "# sqrt( (x2 - x1)^2 + (y2 - y1)^2)"
   ]
  },
  {
   "cell_type": "code",
   "execution_count": 18,
   "id": "56081d8e-dce2-4ff1-8fda-05a5c93d9fb2",
   "metadata": {},
   "outputs": [],
   "source": [
    "# important things:\n",
    "# units are big! are units similar? do we need to scale them?"
   ]
  },
  {
   "cell_type": "code",
   "execution_count": 19,
   "id": "939a5626-772e-48d3-937b-ad0a993ce3db",
   "metadata": {},
   "outputs": [],
   "source": [
    "# lets build our first scaler!"
   ]
  },
  {
   "cell_type": "code",
   "execution_count": 20,
   "id": "aaa9d386-a0ec-4246-81b8-f6a23831e964",
   "metadata": {},
   "outputs": [],
   "source": [
    "# make the thing\n",
    "# fit the thing\n",
    "# use the thing"
   ]
  },
  {
   "cell_type": "code",
   "execution_count": 21,
   "id": "76bc4577-f679-44a4-800f-781d77714df7",
   "metadata": {},
   "outputs": [],
   "source": [
    "from sklearn.preprocessing import MinMaxScaler"
   ]
  },
  {
   "cell_type": "code",
   "execution_count": 30,
   "id": "c013e155-bd2b-48b1-9830-8ff837d03d7c",
   "metadata": {},
   "outputs": [],
   "source": [
    "# make the thing:\n",
    "myscaler = MinMaxScaler()"
   ]
  },
  {
   "cell_type": "code",
   "execution_count": 24,
   "id": "e7be73c6-7b1c-40c6-a987-bc1a022de9ee",
   "metadata": {},
   "outputs": [
    {
     "data": {
      "text/html": [
       "<div>\n",
       "<style scoped>\n",
       "    .dataframe tbody tr th:only-of-type {\n",
       "        vertical-align: middle;\n",
       "    }\n",
       "\n",
       "    .dataframe tbody tr th {\n",
       "        vertical-align: top;\n",
       "    }\n",
       "\n",
       "    .dataframe thead th {\n",
       "        text-align: right;\n",
       "    }\n",
       "</style>\n",
       "<table border=\"1\" class=\"dataframe\">\n",
       "  <thead>\n",
       "    <tr style=\"text-align: right;\">\n",
       "      <th></th>\n",
       "      <th>sepal_len</th>\n",
       "      <th>sepal_wid</th>\n",
       "      <th>petal_len</th>\n",
       "      <th>petal_wid</th>\n",
       "      <th>species</th>\n",
       "    </tr>\n",
       "  </thead>\n",
       "  <tbody>\n",
       "    <tr>\n",
       "      <th>139</th>\n",
       "      <td>6.0</td>\n",
       "      <td>3.0</td>\n",
       "      <td>4.8</td>\n",
       "      <td>1.8</td>\n",
       "      <td>virginica</td>\n",
       "    </tr>\n",
       "    <tr>\n",
       "      <th>8</th>\n",
       "      <td>5.0</td>\n",
       "      <td>3.4</td>\n",
       "      <td>1.5</td>\n",
       "      <td>0.2</td>\n",
       "      <td>setosa</td>\n",
       "    </tr>\n",
       "    <tr>\n",
       "      <th>80</th>\n",
       "      <td>5.7</td>\n",
       "      <td>2.6</td>\n",
       "      <td>3.5</td>\n",
       "      <td>1.0</td>\n",
       "      <td>versicolor</td>\n",
       "    </tr>\n",
       "    <tr>\n",
       "      <th>75</th>\n",
       "      <td>6.4</td>\n",
       "      <td>2.9</td>\n",
       "      <td>4.3</td>\n",
       "      <td>1.3</td>\n",
       "      <td>versicolor</td>\n",
       "    </tr>\n",
       "    <tr>\n",
       "      <th>98</th>\n",
       "      <td>6.2</td>\n",
       "      <td>2.9</td>\n",
       "      <td>4.3</td>\n",
       "      <td>1.3</td>\n",
       "      <td>versicolor</td>\n",
       "    </tr>\n",
       "  </tbody>\n",
       "</table>\n",
       "</div>"
      ],
      "text/plain": [
       "     sepal_len  sepal_wid  petal_len  petal_wid     species\n",
       "139        6.0        3.0        4.8        1.8   virginica\n",
       "8          5.0        3.4        1.5        0.2      setosa\n",
       "80         5.7        2.6        3.5        1.0  versicolor\n",
       "75         6.4        2.9        4.3        1.3  versicolor\n",
       "98         6.2        2.9        4.3        1.3  versicolor"
      ]
     },
     "execution_count": 24,
     "metadata": {},
     "output_type": "execute_result"
    }
   ],
   "source": [
    "# fit the thing:\n",
    "train.head()"
   ]
  },
  {
   "cell_type": "code",
   "execution_count": 25,
   "id": "0e121904-ecf7-4e98-91f3-42fe5aed06e7",
   "metadata": {},
   "outputs": [],
   "source": [
    "X_train, y_train = train.drop(columns='species'), train[['species']]"
   ]
  },
  {
   "cell_type": "code",
   "execution_count": 26,
   "id": "0320b5d2-694f-40ac-8336-542ccc27724c",
   "metadata": {},
   "outputs": [
    {
     "data": {
      "text/html": [
       "<div>\n",
       "<style scoped>\n",
       "    .dataframe tbody tr th:only-of-type {\n",
       "        vertical-align: middle;\n",
       "    }\n",
       "\n",
       "    .dataframe tbody tr th {\n",
       "        vertical-align: top;\n",
       "    }\n",
       "\n",
       "    .dataframe thead th {\n",
       "        text-align: right;\n",
       "    }\n",
       "</style>\n",
       "<table border=\"1\" class=\"dataframe\">\n",
       "  <thead>\n",
       "    <tr style=\"text-align: right;\">\n",
       "      <th></th>\n",
       "      <th>sepal_len</th>\n",
       "      <th>sepal_wid</th>\n",
       "      <th>petal_len</th>\n",
       "      <th>petal_wid</th>\n",
       "    </tr>\n",
       "  </thead>\n",
       "  <tbody>\n",
       "    <tr>\n",
       "      <th>139</th>\n",
       "      <td>6.0</td>\n",
       "      <td>3.0</td>\n",
       "      <td>4.8</td>\n",
       "      <td>1.8</td>\n",
       "    </tr>\n",
       "    <tr>\n",
       "      <th>8</th>\n",
       "      <td>5.0</td>\n",
       "      <td>3.4</td>\n",
       "      <td>1.5</td>\n",
       "      <td>0.2</td>\n",
       "    </tr>\n",
       "  </tbody>\n",
       "</table>\n",
       "</div>"
      ],
      "text/plain": [
       "     sepal_len  sepal_wid  petal_len  petal_wid\n",
       "139        6.0        3.0        4.8        1.8\n",
       "8          5.0        3.4        1.5        0.2"
      ]
     },
     "execution_count": 26,
     "metadata": {},
     "output_type": "execute_result"
    }
   ],
   "source": [
    "X_train.head(2)"
   ]
  },
  {
   "cell_type": "code",
   "execution_count": 27,
   "id": "af905e9f-6ba7-4df5-82a4-0009e32e4e39",
   "metadata": {},
   "outputs": [],
   "source": [
    "scaled_col_names = [col + '_scaled' for col in X_train.columns]"
   ]
  },
  {
   "cell_type": "code",
   "execution_count": 28,
   "id": "3ea63c68-c121-45d2-9594-739e956d9ab3",
   "metadata": {},
   "outputs": [
    {
     "data": {
      "text/plain": [
       "['sepal_len_scaled',\n",
       " 'sepal_wid_scaled',\n",
       " 'petal_len_scaled',\n",
       " 'petal_wid_scaled']"
      ]
     },
     "execution_count": 28,
     "metadata": {},
     "output_type": "execute_result"
    }
   ],
   "source": [
    "scaled_col_names"
   ]
  },
  {
   "cell_type": "code",
   "execution_count": 32,
   "id": "9b548ca3-9f5f-4ac6-9b62-0c3e3ab88b74",
   "metadata": {},
   "outputs": [
    {
     "data": {
      "text/plain": [
       "MinMaxScaler()"
      ]
     },
     "execution_count": 32,
     "metadata": {},
     "output_type": "execute_result"
    }
   ],
   "source": [
    "# fit the thing:\n",
    "myscaler.fit(X_train)"
   ]
  },
  {
   "cell_type": "code",
   "execution_count": 33,
   "id": "93e53409-0c6e-40d3-864d-47638a47bb1f",
   "metadata": {},
   "outputs": [],
   "source": [
    "# use the thing:\n",
    "scaled_vals = myscaler.transform(X_train)"
   ]
  },
  {
   "cell_type": "code",
   "execution_count": 34,
   "id": "8c34d09e-7cb2-40bc-bd29-df6d18b98490",
   "metadata": {},
   "outputs": [
    {
     "data": {
      "text/plain": [
       "array([[0.5       , 0.41666667, 0.6440678 , 0.70833333],\n",
       "       [0.20588235, 0.58333333, 0.08474576, 0.04166667],\n",
       "       [0.41176471, 0.25      , 0.42372881, 0.375     ],\n",
       "       [0.61764706, 0.375     , 0.55932203, 0.5       ],\n",
       "       [0.55882353, 0.375     , 0.55932203, 0.5       ],\n",
       "       [0.38235294, 0.29166667, 0.54237288, 0.5       ],\n",
       "       [0.5       , 0.29166667, 0.69491525, 0.625     ],\n",
       "       [0.        , 0.41666667, 0.01694915, 0.        ],\n",
       "       [0.5       , 0.58333333, 0.59322034, 0.625     ],\n",
       "       [0.02941176, 0.5       , 0.05084746, 0.04166667],\n",
       "       [0.32352941, 0.79166667, 0.05084746, 0.125     ],\n",
       "       [0.20588235, 0.41666667, 0.10169492, 0.04166667],\n",
       "       [0.58823529, 0.375     , 0.77966102, 0.70833333],\n",
       "       [0.08823529, 0.66666667, 0.        , 0.04166667],\n",
       "       [1.        , 0.41666667, 0.86440678, 0.91666667],\n",
       "       [0.73529412, 0.5       , 0.83050847, 0.91666667],\n",
       "       [0.44117647, 0.29166667, 0.52542373, 0.375     ],\n",
       "       [0.82352941, 0.41666667, 0.83050847, 0.83333333],\n",
       "       [0.38235294, 0.41666667, 0.59322034, 0.58333333],\n",
       "       [0.47058824, 0.41666667, 0.54237288, 0.58333333],\n",
       "       [0.23529412, 0.75      , 0.15254237, 0.125     ],\n",
       "       [0.35294118, 0.16666667, 0.45762712, 0.375     ],\n",
       "       [0.11764706, 0.5       , 0.10169492, 0.04166667],\n",
       "       [0.5       , 0.08333333, 0.6779661 , 0.58333333],\n",
       "       [0.20588235, 0.125     , 0.38983051, 0.375     ],\n",
       "       [0.20588235, 0.625     , 0.10169492, 0.20833333],\n",
       "       [0.91176471, 0.33333333, 0.86440678, 0.75      ],\n",
       "       [0.17647059, 0.45833333, 0.08474576, 0.        ],\n",
       "       [0.85294118, 0.41666667, 0.81355932, 0.625     ],\n",
       "       [0.17647059, 0.66666667, 0.06779661, 0.        ],\n",
       "       [0.67647059, 0.41666667, 0.57627119, 0.54166667],\n",
       "       [0.58823529, 0.29166667, 0.66101695, 0.70833333],\n",
       "       [0.14705882, 0.45833333, 0.10169492, 0.04166667],\n",
       "       [0.20588235, 0.58333333, 0.10169492, 0.125     ],\n",
       "       [0.44117647, 0.29166667, 0.69491525, 0.75      ],\n",
       "       [0.20588235, 0.54166667, 0.06779661, 0.04166667],\n",
       "       [0.58823529, 0.54166667, 0.84745763, 1.        ],\n",
       "       [0.52941176, 0.33333333, 0.50847458, 0.5       ],\n",
       "       [0.38235294, 0.41666667, 0.52542373, 0.5       ],\n",
       "       [0.70588235, 0.54166667, 0.79661017, 0.83333333],\n",
       "       [0.20588235, 0.        , 0.42372881, 0.375     ],\n",
       "       [0.76470588, 0.5       , 0.79661017, 0.91666667],\n",
       "       [0.58823529, 0.125     , 0.57627119, 0.5       ],\n",
       "       [0.44117647, 0.83333333, 0.03389831, 0.04166667],\n",
       "       [0.70588235, 0.45833333, 0.77966102, 0.95833333],\n",
       "       [0.70588235, 0.54166667, 0.79661017, 1.        ],\n",
       "       [0.29411765, 0.70833333, 0.08474576, 0.04166667],\n",
       "       [0.47058824, 0.41666667, 0.69491525, 0.70833333],\n",
       "       [0.55882353, 0.33333333, 0.6440678 , 0.70833333],\n",
       "       [0.70588235, 0.41666667, 0.71186441, 0.91666667],\n",
       "       [0.58823529, 0.54166667, 0.62711864, 0.625     ],\n",
       "       [0.17647059, 0.45833333, 0.08474576, 0.04166667],\n",
       "       [0.23529412, 0.70833333, 0.08474576, 0.125     ],\n",
       "       [0.20588235, 0.66666667, 0.06779661, 0.04166667],\n",
       "       [0.61764706, 0.5       , 0.72881356, 0.91666667],\n",
       "       [0.44117647, 0.29166667, 0.49152542, 0.45833333],\n",
       "       [0.70588235, 0.41666667, 0.6779661 , 0.66666667],\n",
       "       [0.14705882, 0.41666667, 0.06779661, 0.        ],\n",
       "       [0.52941176, 0.375     , 0.62711864, 0.54166667],\n",
       "       [0.76470588, 0.45833333, 0.66101695, 0.58333333],\n",
       "       [0.23529412, 0.54166667, 0.11864407, 0.16666667],\n",
       "       [0.61764706, 0.29166667, 0.72881356, 0.75      ],\n",
       "       [0.38235294, 0.375     , 0.44067797, 0.5       ],\n",
       "       [0.64705882, 0.5       , 0.69491525, 0.79166667],\n",
       "       [0.08823529, 0.5       , 0.06779661, 0.04166667],\n",
       "       [0.58823529, 0.58333333, 0.77966102, 0.95833333],\n",
       "       [0.73529412, 0.41666667, 0.76271186, 0.83333333],\n",
       "       [0.05882353, 0.125     , 0.05084746, 0.08333333],\n",
       "       [1.        , 0.33333333, 0.96610169, 0.79166667],\n",
       "       [0.26470588, 0.875     , 0.08474576, 0.        ],\n",
       "       [0.5       , 0.375     , 0.59322034, 0.58333333],\n",
       "       [0.52941176, 0.41666667, 0.61016949, 0.54166667],\n",
       "       [0.17647059, 0.41666667, 0.06779661, 0.04166667],\n",
       "       [0.23529412, 0.20833333, 0.33898305, 0.41666667],\n",
       "       [1.        , 0.25      , 1.        , 0.91666667],\n",
       "       [0.32352941, 0.58333333, 0.11864407, 0.04166667],\n",
       "       [0.41176471, 1.        , 0.08474576, 0.125     ],\n",
       "       [0.58823529, 0.33333333, 0.69491525, 0.58333333],\n",
       "       [0.02941176, 0.375     , 0.06779661, 0.04166667],\n",
       "       [0.76470588, 0.45833333, 0.69491525, 0.91666667],\n",
       "       [0.67647059, 0.375     , 0.61016949, 0.5       ],\n",
       "       [0.26470588, 0.29166667, 0.49152542, 0.54166667],\n",
       "       [0.64705882, 0.41666667, 0.76271186, 0.70833333],\n",
       "       [0.64705882, 0.33333333, 0.61016949, 0.58333333]])"
      ]
     },
     "execution_count": 34,
     "metadata": {},
     "output_type": "execute_result"
    }
   ],
   "source": [
    "scaled_vals"
   ]
  },
  {
   "cell_type": "code",
   "execution_count": 35,
   "id": "95bf2dbf-0b69-43af-adb7-23736c7f4c09",
   "metadata": {},
   "outputs": [],
   "source": [
    "X_train[scaled_col_names] = scaled_vals"
   ]
  },
  {
   "cell_type": "code",
   "execution_count": 36,
   "id": "0f975f92-71ac-40d9-8f6c-0291a4edaa88",
   "metadata": {},
   "outputs": [
    {
     "data": {
      "text/html": [
       "<div>\n",
       "<style scoped>\n",
       "    .dataframe tbody tr th:only-of-type {\n",
       "        vertical-align: middle;\n",
       "    }\n",
       "\n",
       "    .dataframe tbody tr th {\n",
       "        vertical-align: top;\n",
       "    }\n",
       "\n",
       "    .dataframe thead th {\n",
       "        text-align: right;\n",
       "    }\n",
       "</style>\n",
       "<table border=\"1\" class=\"dataframe\">\n",
       "  <thead>\n",
       "    <tr style=\"text-align: right;\">\n",
       "      <th></th>\n",
       "      <th>sepal_len</th>\n",
       "      <th>sepal_wid</th>\n",
       "      <th>petal_len</th>\n",
       "      <th>petal_wid</th>\n",
       "      <th>sepal_len_scaled</th>\n",
       "      <th>sepal_wid_scaled</th>\n",
       "      <th>petal_len_scaled</th>\n",
       "      <th>petal_wid_scaled</th>\n",
       "    </tr>\n",
       "  </thead>\n",
       "  <tbody>\n",
       "    <tr>\n",
       "      <th>139</th>\n",
       "      <td>6.0</td>\n",
       "      <td>3.0</td>\n",
       "      <td>4.8</td>\n",
       "      <td>1.8</td>\n",
       "      <td>0.500000</td>\n",
       "      <td>0.416667</td>\n",
       "      <td>0.644068</td>\n",
       "      <td>0.708333</td>\n",
       "    </tr>\n",
       "    <tr>\n",
       "      <th>8</th>\n",
       "      <td>5.0</td>\n",
       "      <td>3.4</td>\n",
       "      <td>1.5</td>\n",
       "      <td>0.2</td>\n",
       "      <td>0.205882</td>\n",
       "      <td>0.583333</td>\n",
       "      <td>0.084746</td>\n",
       "      <td>0.041667</td>\n",
       "    </tr>\n",
       "    <tr>\n",
       "      <th>80</th>\n",
       "      <td>5.7</td>\n",
       "      <td>2.6</td>\n",
       "      <td>3.5</td>\n",
       "      <td>1.0</td>\n",
       "      <td>0.411765</td>\n",
       "      <td>0.250000</td>\n",
       "      <td>0.423729</td>\n",
       "      <td>0.375000</td>\n",
       "    </tr>\n",
       "    <tr>\n",
       "      <th>75</th>\n",
       "      <td>6.4</td>\n",
       "      <td>2.9</td>\n",
       "      <td>4.3</td>\n",
       "      <td>1.3</td>\n",
       "      <td>0.617647</td>\n",
       "      <td>0.375000</td>\n",
       "      <td>0.559322</td>\n",
       "      <td>0.500000</td>\n",
       "    </tr>\n",
       "    <tr>\n",
       "      <th>98</th>\n",
       "      <td>6.2</td>\n",
       "      <td>2.9</td>\n",
       "      <td>4.3</td>\n",
       "      <td>1.3</td>\n",
       "      <td>0.558824</td>\n",
       "      <td>0.375000</td>\n",
       "      <td>0.559322</td>\n",
       "      <td>0.500000</td>\n",
       "    </tr>\n",
       "  </tbody>\n",
       "</table>\n",
       "</div>"
      ],
      "text/plain": [
       "     sepal_len  sepal_wid  petal_len  petal_wid  sepal_len_scaled  \\\n",
       "139        6.0        3.0        4.8        1.8          0.500000   \n",
       "8          5.0        3.4        1.5        0.2          0.205882   \n",
       "80         5.7        2.6        3.5        1.0          0.411765   \n",
       "75         6.4        2.9        4.3        1.3          0.617647   \n",
       "98         6.2        2.9        4.3        1.3          0.558824   \n",
       "\n",
       "     sepal_wid_scaled  petal_len_scaled  petal_wid_scaled  \n",
       "139          0.416667          0.644068          0.708333  \n",
       "8            0.583333          0.084746          0.041667  \n",
       "80           0.250000          0.423729          0.375000  \n",
       "75           0.375000          0.559322          0.500000  \n",
       "98           0.375000          0.559322          0.500000  "
      ]
     },
     "execution_count": 36,
     "metadata": {},
     "output_type": "execute_result"
    }
   ],
   "source": [
    "X_train.head(5)"
   ]
  },
  {
   "cell_type": "code",
   "execution_count": 38,
   "id": "0e63bf8a-9633-4d40-9c19-e3c24af88cf7",
   "metadata": {},
   "outputs": [
    {
     "data": {
      "text/html": [
       "<div>\n",
       "<style scoped>\n",
       "    .dataframe tbody tr th:only-of-type {\n",
       "        vertical-align: middle;\n",
       "    }\n",
       "\n",
       "    .dataframe tbody tr th {\n",
       "        vertical-align: top;\n",
       "    }\n",
       "\n",
       "    .dataframe thead th {\n",
       "        text-align: right;\n",
       "    }\n",
       "</style>\n",
       "<table border=\"1\" class=\"dataframe\">\n",
       "  <thead>\n",
       "    <tr style=\"text-align: right;\">\n",
       "      <th></th>\n",
       "      <th>sepal_len</th>\n",
       "      <th>sepal_wid</th>\n",
       "      <th>petal_len</th>\n",
       "      <th>petal_wid</th>\n",
       "      <th>sepal_len_scaled</th>\n",
       "      <th>sepal_wid_scaled</th>\n",
       "      <th>petal_len_scaled</th>\n",
       "      <th>petal_wid_scaled</th>\n",
       "    </tr>\n",
       "  </thead>\n",
       "  <tbody>\n",
       "    <tr>\n",
       "      <th>count</th>\n",
       "      <td>84.000000</td>\n",
       "      <td>84.000000</td>\n",
       "      <td>84.000000</td>\n",
       "      <td>84.000000</td>\n",
       "      <td>84.000000</td>\n",
       "      <td>84.000000</td>\n",
       "      <td>84.000000</td>\n",
       "      <td>84.000000</td>\n",
       "    </tr>\n",
       "    <tr>\n",
       "      <th>mean</th>\n",
       "      <td>5.847619</td>\n",
       "      <td>3.053571</td>\n",
       "      <td>3.738095</td>\n",
       "      <td>1.208333</td>\n",
       "      <td>0.455182</td>\n",
       "      <td>0.438988</td>\n",
       "      <td>0.464084</td>\n",
       "      <td>0.461806</td>\n",
       "    </tr>\n",
       "    <tr>\n",
       "      <th>std</th>\n",
       "      <td>0.841324</td>\n",
       "      <td>0.417233</td>\n",
       "      <td>1.765459</td>\n",
       "      <td>0.775717</td>\n",
       "      <td>0.247448</td>\n",
       "      <td>0.173847</td>\n",
       "      <td>0.299230</td>\n",
       "      <td>0.323215</td>\n",
       "    </tr>\n",
       "    <tr>\n",
       "      <th>min</th>\n",
       "      <td>4.300000</td>\n",
       "      <td>2.000000</td>\n",
       "      <td>1.000000</td>\n",
       "      <td>0.100000</td>\n",
       "      <td>0.000000</td>\n",
       "      <td>0.000000</td>\n",
       "      <td>0.000000</td>\n",
       "      <td>0.000000</td>\n",
       "    </tr>\n",
       "    <tr>\n",
       "      <th>25%</th>\n",
       "      <td>5.075000</td>\n",
       "      <td>2.800000</td>\n",
       "      <td>1.600000</td>\n",
       "      <td>0.375000</td>\n",
       "      <td>0.227941</td>\n",
       "      <td>0.333333</td>\n",
       "      <td>0.101695</td>\n",
       "      <td>0.114583</td>\n",
       "    </tr>\n",
       "    <tr>\n",
       "      <th>50%</th>\n",
       "      <td>5.900000</td>\n",
       "      <td>3.000000</td>\n",
       "      <td>4.300000</td>\n",
       "      <td>1.300000</td>\n",
       "      <td>0.470588</td>\n",
       "      <td>0.416667</td>\n",
       "      <td>0.559322</td>\n",
       "      <td>0.500000</td>\n",
       "    </tr>\n",
       "    <tr>\n",
       "      <th>75%</th>\n",
       "      <td>6.425000</td>\n",
       "      <td>3.300000</td>\n",
       "      <td>5.100000</td>\n",
       "      <td>1.800000</td>\n",
       "      <td>0.625000</td>\n",
       "      <td>0.541667</td>\n",
       "      <td>0.694915</td>\n",
       "      <td>0.708333</td>\n",
       "    </tr>\n",
       "    <tr>\n",
       "      <th>max</th>\n",
       "      <td>7.700000</td>\n",
       "      <td>4.400000</td>\n",
       "      <td>6.900000</td>\n",
       "      <td>2.500000</td>\n",
       "      <td>1.000000</td>\n",
       "      <td>1.000000</td>\n",
       "      <td>1.000000</td>\n",
       "      <td>1.000000</td>\n",
       "    </tr>\n",
       "  </tbody>\n",
       "</table>\n",
       "</div>"
      ],
      "text/plain": [
       "       sepal_len  sepal_wid  petal_len  petal_wid  sepal_len_scaled  \\\n",
       "count  84.000000  84.000000  84.000000  84.000000         84.000000   \n",
       "mean    5.847619   3.053571   3.738095   1.208333          0.455182   \n",
       "std     0.841324   0.417233   1.765459   0.775717          0.247448   \n",
       "min     4.300000   2.000000   1.000000   0.100000          0.000000   \n",
       "25%     5.075000   2.800000   1.600000   0.375000          0.227941   \n",
       "50%     5.900000   3.000000   4.300000   1.300000          0.470588   \n",
       "75%     6.425000   3.300000   5.100000   1.800000          0.625000   \n",
       "max     7.700000   4.400000   6.900000   2.500000          1.000000   \n",
       "\n",
       "       sepal_wid_scaled  petal_len_scaled  petal_wid_scaled  \n",
       "count         84.000000         84.000000         84.000000  \n",
       "mean           0.438988          0.464084          0.461806  \n",
       "std            0.173847          0.299230          0.323215  \n",
       "min            0.000000          0.000000          0.000000  \n",
       "25%            0.333333          0.101695          0.114583  \n",
       "50%            0.416667          0.559322          0.500000  \n",
       "75%            0.541667          0.694915          0.708333  \n",
       "max            1.000000          1.000000          1.000000  "
      ]
     },
     "execution_count": 38,
     "metadata": {},
     "output_type": "execute_result"
    }
   ],
   "source": [
    "X_train.describe()"
   ]
  },
  {
   "cell_type": "code",
   "execution_count": 42,
   "id": "4577a2a7-612d-49d5-a578-62a0319e5ef8",
   "metadata": {},
   "outputs": [
    {
     "data": {
      "text/plain": [
       "<AxesSubplot:xlabel='petal_len_scaled', ylabel='petal_wid_scaled'>"
      ]
     },
     "execution_count": 42,
     "metadata": {},
     "output_type": "execute_result"
    },
    {
     "data": {
      "image/png": "[encoded data removed]",
      "text/plain": [
       "<Figure size 432x288 with 1 Axes>"
      ]
     },
     "metadata": {
      "needs_background": "light"
     },
     "output_type": "display_data"
    }
   ],
   "source": [
    "sns.scatterplot(x='petal_len_scaled',\n",
    "                y='petal_wid_scaled',\n",
    "                data=X_train)"
   ]
  },
  {
   "cell_type": "code",
   "execution_count": 43,
   "id": "717b0114-feeb-4132-9c96-93ba27d2f462",
   "metadata": {},
   "outputs": [],
   "source": [
    "# lets make a model"
   ]
  },
  {
   "cell_type": "code",
   "execution_count": 44,
   "id": "3a7c1da1-e3c8-4a9b-b5d9-4163f5e8440a",
   "metadata": {},
   "outputs": [],
   "source": [
    "# make a thing:"
   ]
  },
  {
   "cell_type": "code",
   "execution_count": 45,
   "id": "ebb5cf98-6845-4502-8dfb-150b1448cc02",
   "metadata": {},
   "outputs": [],
   "source": [
    "clf = KNN(n_neighbors=4)"
   ]
  },
  {
   "cell_type": "code",
   "execution_count": 46,
   "id": "eb05621b-6834-4cb5-a319-baa5f35ddacd",
   "metadata": {},
   "outputs": [],
   "source": [
    "# fit the thing:"
   ]
  },
  {
   "cell_type": "code",
   "execution_count": 47,
   "id": "56d89407-344f-4254-8feb-cfa132dd5150",
   "metadata": {},
   "outputs": [],
   "source": [
    "selected_cols = ['petal_len_scaled', 'petal_wid_scaled', 'sepal_len_scaled']"
   ]
  },
  {
   "cell_type": "code",
   "execution_count": 49,
   "id": "85938324-cd75-42ff-92ae-f49ed5577e15",
   "metadata": {},
   "outputs": [
    {
     "data": {
      "text/plain": [
       "KNeighborsClassifier(n_neighbors=4)"
      ]
     },
     "execution_count": 49,
     "metadata": {},
     "output_type": "execute_result"
    }
   ],
   "source": [
    "clf.fit(X_train[selected_cols], y_train['species'])"
   ]
  },
  {
   "cell_type": "code",
   "execution_count": 50,
   "id": "c0bb5a85-3667-4926-90da-38cca9dc589b",
   "metadata": {},
   "outputs": [],
   "source": [
    "# get predictions:\n",
    "y_train_pred = clf.predict(X_train[selected_cols])"
   ]
  },
  {
   "cell_type": "code",
   "execution_count": 51,
   "id": "c0762f10-2d8d-41e1-b523-192d490988b5",
   "metadata": {},
   "outputs": [
    {
     "data": {
      "text/plain": [
       "0.9523809523809523"
      ]
     },
     "execution_count": 51,
     "metadata": {},
     "output_type": "execute_result"
    }
   ],
   "source": [
    "accuracy_score(y_train.species,\n",
    "              y_train_pred)"
   ]
  },
  {
   "cell_type": "code",
   "execution_count": 52,
   "id": "0da9d8f3-961d-4013-b01d-c5248c872f1e",
   "metadata": {},
   "outputs": [
    {
     "data": {
      "text/html": [
       "<div>\n",
       "<style scoped>\n",
       "    .dataframe tbody tr th:only-of-type {\n",
       "        vertical-align: middle;\n",
       "    }\n",
       "\n",
       "    .dataframe tbody tr th {\n",
       "        vertical-align: top;\n",
       "    }\n",
       "\n",
       "    .dataframe thead th {\n",
       "        text-align: right;\n",
       "    }\n",
       "</style>\n",
       "<table border=\"1\" class=\"dataframe\">\n",
       "  <thead>\n",
       "    <tr style=\"text-align: right;\">\n",
       "      <th></th>\n",
       "      <th>sepal_len</th>\n",
       "      <th>sepal_wid</th>\n",
       "      <th>petal_len</th>\n",
       "      <th>petal_wid</th>\n",
       "      <th>species</th>\n",
       "    </tr>\n",
       "  </thead>\n",
       "  <tbody>\n",
       "    <tr>\n",
       "      <th>6</th>\n",
       "      <td>5.4</td>\n",
       "      <td>3.9</td>\n",
       "      <td>1.7</td>\n",
       "      <td>0.4</td>\n",
       "      <td>setosa</td>\n",
       "    </tr>\n",
       "    <tr>\n",
       "      <th>29</th>\n",
       "      <td>5.2</td>\n",
       "      <td>3.4</td>\n",
       "      <td>1.4</td>\n",
       "      <td>0.2</td>\n",
       "      <td>setosa</td>\n",
       "    </tr>\n",
       "    <tr>\n",
       "      <th>34</th>\n",
       "      <td>5.5</td>\n",
       "      <td>4.2</td>\n",
       "      <td>1.4</td>\n",
       "      <td>0.2</td>\n",
       "      <td>setosa</td>\n",
       "    </tr>\n",
       "    <tr>\n",
       "      <th>47</th>\n",
       "      <td>5.1</td>\n",
       "      <td>3.8</td>\n",
       "      <td>1.6</td>\n",
       "      <td>0.2</td>\n",
       "      <td>setosa</td>\n",
       "    </tr>\n",
       "    <tr>\n",
       "      <th>114</th>\n",
       "      <td>5.7</td>\n",
       "      <td>2.5</td>\n",
       "      <td>5.0</td>\n",
       "      <td>2.0</td>\n",
       "      <td>virginica</td>\n",
       "    </tr>\n",
       "  </tbody>\n",
       "</table>\n",
       "</div>"
      ],
      "text/plain": [
       "     sepal_len  sepal_wid  petal_len  petal_wid    species\n",
       "6          5.4        3.9        1.7        0.4     setosa\n",
       "29         5.2        3.4        1.4        0.2     setosa\n",
       "34         5.5        4.2        1.4        0.2     setosa\n",
       "47         5.1        3.8        1.6        0.2     setosa\n",
       "114        5.7        2.5        5.0        2.0  virginica"
      ]
     },
     "execution_count": 52,
     "metadata": {},
     "output_type": "execute_result"
    }
   ],
   "source": [
    "validate.head()"
   ]
  },
  {
   "cell_type": "code",
   "execution_count": 53,
   "id": "d09f6c6d-af7b-4acc-bf55-79c0a36a3aa9",
   "metadata": {},
   "outputs": [],
   "source": [
    "# separate X and y\n",
    "val_x, val_y = validate.drop(columns='species'), validate[['species']]"
   ]
  },
  {
   "cell_type": "code",
   "execution_count": 54,
   "id": "b35cb5c7-77dd-4993-830a-b7b69e6d1649",
   "metadata": {},
   "outputs": [],
   "source": [
    "# apply my scaler from before"
   ]
  },
  {
   "cell_type": "code",
   "execution_count": 55,
   "id": "c8dee0d4-514e-4b36-b542-53f5de324071",
   "metadata": {},
   "outputs": [
    {
     "data": {
      "text/plain": [
       "['sepal_len_scaled',\n",
       " 'sepal_wid_scaled',\n",
       " 'petal_len_scaled',\n",
       " 'petal_wid_scaled']"
      ]
     },
     "execution_count": 55,
     "metadata": {},
     "output_type": "execute_result"
    }
   ],
   "source": [
    "scaled_col_names"
   ]
  },
  {
   "cell_type": "code",
   "execution_count": 56,
   "id": "ba23e9f9-bfe5-4022-a677-cddd480115fa",
   "metadata": {},
   "outputs": [],
   "source": [
    "val_x[scaled_col_names] = myscaler.transform(val_x)"
   ]
  },
  {
   "cell_type": "code",
   "execution_count": 57,
   "id": "f3174850-31d6-4f87-9bff-88b54da28523",
   "metadata": {},
   "outputs": [
    {
     "data": {
      "text/html": [
       "<div>\n",
       "<style scoped>\n",
       "    .dataframe tbody tr th:only-of-type {\n",
       "        vertical-align: middle;\n",
       "    }\n",
       "\n",
       "    .dataframe tbody tr th {\n",
       "        vertical-align: top;\n",
       "    }\n",
       "\n",
       "    .dataframe thead th {\n",
       "        text-align: right;\n",
       "    }\n",
       "</style>\n",
       "<table border=\"1\" class=\"dataframe\">\n",
       "  <thead>\n",
       "    <tr style=\"text-align: right;\">\n",
       "      <th></th>\n",
       "      <th>sepal_len</th>\n",
       "      <th>sepal_wid</th>\n",
       "      <th>petal_len</th>\n",
       "      <th>petal_wid</th>\n",
       "      <th>sepal_len_scaled</th>\n",
       "      <th>sepal_wid_scaled</th>\n",
       "      <th>petal_len_scaled</th>\n",
       "      <th>petal_wid_scaled</th>\n",
       "    </tr>\n",
       "  </thead>\n",
       "  <tbody>\n",
       "    <tr>\n",
       "      <th>6</th>\n",
       "      <td>5.4</td>\n",
       "      <td>3.9</td>\n",
       "      <td>1.7</td>\n",
       "      <td>0.4</td>\n",
       "      <td>0.323529</td>\n",
       "      <td>0.791667</td>\n",
       "      <td>0.118644</td>\n",
       "      <td>0.125000</td>\n",
       "    </tr>\n",
       "    <tr>\n",
       "      <th>29</th>\n",
       "      <td>5.2</td>\n",
       "      <td>3.4</td>\n",
       "      <td>1.4</td>\n",
       "      <td>0.2</td>\n",
       "      <td>0.264706</td>\n",
       "      <td>0.583333</td>\n",
       "      <td>0.067797</td>\n",
       "      <td>0.041667</td>\n",
       "    </tr>\n",
       "    <tr>\n",
       "      <th>34</th>\n",
       "      <td>5.5</td>\n",
       "      <td>4.2</td>\n",
       "      <td>1.4</td>\n",
       "      <td>0.2</td>\n",
       "      <td>0.352941</td>\n",
       "      <td>0.916667</td>\n",
       "      <td>0.067797</td>\n",
       "      <td>0.041667</td>\n",
       "    </tr>\n",
       "    <tr>\n",
       "      <th>47</th>\n",
       "      <td>5.1</td>\n",
       "      <td>3.8</td>\n",
       "      <td>1.6</td>\n",
       "      <td>0.2</td>\n",
       "      <td>0.235294</td>\n",
       "      <td>0.750000</td>\n",
       "      <td>0.101695</td>\n",
       "      <td>0.041667</td>\n",
       "    </tr>\n",
       "    <tr>\n",
       "      <th>114</th>\n",
       "      <td>5.7</td>\n",
       "      <td>2.5</td>\n",
       "      <td>5.0</td>\n",
       "      <td>2.0</td>\n",
       "      <td>0.411765</td>\n",
       "      <td>0.208333</td>\n",
       "      <td>0.677966</td>\n",
       "      <td>0.791667</td>\n",
       "    </tr>\n",
       "  </tbody>\n",
       "</table>\n",
       "</div>"
      ],
      "text/plain": [
       "     sepal_len  sepal_wid  petal_len  petal_wid  sepal_len_scaled  \\\n",
       "6          5.4        3.9        1.7        0.4          0.323529   \n",
       "29         5.2        3.4        1.4        0.2          0.264706   \n",
       "34         5.5        4.2        1.4        0.2          0.352941   \n",
       "47         5.1        3.8        1.6        0.2          0.235294   \n",
       "114        5.7        2.5        5.0        2.0          0.411765   \n",
       "\n",
       "     sepal_wid_scaled  petal_len_scaled  petal_wid_scaled  \n",
       "6            0.791667          0.118644          0.125000  \n",
       "29           0.583333          0.067797          0.041667  \n",
       "34           0.916667          0.067797          0.041667  \n",
       "47           0.750000          0.101695          0.041667  \n",
       "114          0.208333          0.677966          0.791667  "
      ]
     },
     "execution_count": 57,
     "metadata": {},
     "output_type": "execute_result"
    }
   ],
   "source": [
    "val_x.head()"
   ]
  },
  {
   "cell_type": "code",
   "execution_count": 58,
   "id": "380169ed-bab0-4c17-83f6-490348c2ac39",
   "metadata": {},
   "outputs": [],
   "source": [
    "# use my model for prediction on validate set:"
   ]
  },
  {
   "cell_type": "code",
   "execution_count": 60,
   "id": "a66891f5-1994-4f17-a5b9-723e7237b89c",
   "metadata": {},
   "outputs": [],
   "source": [
    "y_val_pred = clf.predict(val_x[selected_cols])"
   ]
  },
  {
   "cell_type": "code",
   "execution_count": 61,
   "id": "fba3fde5-4291-4982-9cf1-093c989f92ba",
   "metadata": {},
   "outputs": [
    {
     "data": {
      "text/plain": [
       "0.9444444444444444"
      ]
     },
     "execution_count": 61,
     "metadata": {},
     "output_type": "execute_result"
    }
   ],
   "source": [
    "accuracy_score(val_y, y_val_pred)"
   ]
  },
  {
   "cell_type": "code",
   "execution_count": null,
   "id": "76590dcb-afd7-4b4c-a9fa-9bc24c505988",
   "metadata": {},
   "outputs": [],
   "source": []
  }
 ],
 "metadata": {
  "kernelspec": {
   "display_name": "Python 3",
   "language": "python",
   "name": "python3"
  },
  "language_info": {
   "codemirror_mode": {
    "name": "ipython",
    "version": 3
   },
   "file_extension": ".py",
   "mimetype": "text/x-python",
   "name": "python",
   "nbconvert_exporter": "python",
   "pygments_lexer": "ipython3",
   "version": "3.9.4"
  }
 },
 "nbformat": 4,
 "nbformat_minor": 5
}
