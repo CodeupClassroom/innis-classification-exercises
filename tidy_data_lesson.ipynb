{
 "cells": [
  {
   "cell_type": "markdown",
   "id": "67e21753",
   "metadata": {},
   "source": [
    "# Data Reshaping + Tidy Data"
   ]
  },
  {
   "cell_type": "code",
   "execution_count": null,
   "id": "1693eb80",
   "metadata": {},
   "outputs": [],
   "source": [
    "import pandas as pd\n",
    "import numpy as np\n",
    "import env\n",
    "\n",
    "DB_URL = f'mysql+pymysql://{env.user}:{env.password}@{env.host}/tidy_data'"
   ]
  },
  {
   "cell_type": "markdown",
   "id": "a1f63207",
   "metadata": {},
   "source": [
    "## Data Reshaping\n",
    "\n",
    "- **long** data has many rows and few columns\n",
    "- **wide** data has many columns\n",
    "- a **melt** takes the data from wide to long\n",
    "- a **spread**, or **pivot** takes the data from long to wide\n",
    "- a **transpose** rotates the dataframe 90 degrees"
   ]
  },
  {
   "cell_type": "markdown",
   "id": "b8e13534",
   "metadata": {},
   "source": [
    "### Melt Example"
   ]
  },
  {
   "cell_type": "code",
   "execution_count": null,
   "id": "d2767958",
   "metadata": {},
   "outputs": [],
   "source": [
    "np.random.seed(123)\n",
    "\n",
    "# simple data for demonstration\n",
    "df = pd.DataFrame({\n",
    "    'a': np.random.randint(1, 11, 3),\n",
    "    'b': np.random.randint(1, 11, 3),\n",
    "    'c': np.random.randint(1, 11, 3),\n",
    "    'x': np.random.randint(1, 11, 3),\n",
    "    'y': np.random.randint(1, 11, 3),\n",
    "    'z': np.random.randint(1, 11, 3),    \n",
    "})\n",
    "df"
   ]
  },
  {
   "cell_type": "markdown",
   "id": "2c628d8a",
   "metadata": {},
   "source": [
    "Different ways of using `.melt`:"
   ]
  },
  {
   "cell_type": "code",
   "execution_count": null,
   "id": "5ffbf6fd",
   "metadata": {},
   "outputs": [],
   "source": [
    "# df.melt()\n",
    "# df.melt(id_vars='a')\n",
    "# df.melt(id_vars='x')\n",
    "# df.melt(id_vars=['a', 'b'])\n",
    "# df.melt(value_vars=['x', 'y', 'z'])\n",
    "# df.melt(id_vars=['a', 'b'], value_vars=['x', 'y'], var_name='foo', value_name='bar')"
   ]
  },
  {
   "cell_type": "markdown",
   "id": "fa79a235",
   "metadata": {},
   "source": [
    "### Pivot Table Example"
   ]
  },
  {
   "cell_type": "code",
   "execution_count": null,
   "id": "d69b3fd8-b4f7-45f8-aa25-6fe0fd9569b4",
   "metadata": {},
   "outputs": [],
   "source": [
    "import itertools as it\n",
    "\n",
    "df = pd.DataFrame(it.product('ABC', ['one', 'two', 'three']), columns=['group', 'subgroup'])\n",
    "df['x'] = np.random.randn(df.shape[0])\n",
    "df"
   ]
  },
  {
   "cell_type": "code",
   "execution_count": null,
   "id": "6d98d9af-5fbc-4290-9458-603bb809742f",
   "metadata": {},
   "outputs": [],
   "source": [
    "df.pivot_table(values='x', index='subgroup', columns='group')"
   ]
  },
  {
   "cell_type": "markdown",
   "id": "0cd83028",
   "metadata": {},
   "source": [
    "## Tidy Data\n",
    "\n",
    "Tidy Data Characteristics:\n",
    "\n",
    "- data is tabular, i.e. made up of rows and columns\n",
    "- there is one value per cell\n",
    "- each variable is a column\n",
    "- each observation is a row\n",
    "\n",
    "General Ideas\n",
    "\n",
    "- Each variable is a characteristic of an observation\n",
    "- If the units are the same, maybe they should be in the same column\n",
    "- If one column has measurements of different units, it should be spread out\n",
    "- Should you be able to groupby some of the columns? combine them\n",
    "- Can I pass this data to seaborn?\n",
    "- Can we ask interesting questions and answer them with a group by? I.e. generally we **don't** want to be taking row or column averages.\n",
    "\n",
    "For the rest of this lesson, we'll look at data that is **not** tidy."
   ]
  },
  {
   "cell_type": "markdown",
   "id": "9f2a4b9f",
   "metadata": {},
   "source": [
    "### One Column with Multiple Variables"
   ]
  },
  {
   "cell_type": "code",
   "execution_count": null,
   "id": "4e7dc7bd",
   "metadata": {},
   "outputs": [],
   "source": [
    "df = pd.DataFrame({\n",
    "    'name': ['Sally', 'Jane', 'Billy', 'Suzy'],\n",
    "    'pet': ['dog: max', 'dog: buddy', 'cat: grizabella', 'hamster: fred']\n",
    "})\n",
    "df"
   ]
  },
  {
   "cell_type": "markdown",
   "id": "e6fd4a1b",
   "metadata": {},
   "source": [
    "### One Variable in Multiple Columns"
   ]
  },
  {
   "cell_type": "code",
   "execution_count": null,
   "id": "3be7a347",
   "metadata": {},
   "outputs": [],
   "source": [
    "np.random.seed(123)\n",
    "\n",
    "df = pd.DataFrame(\n",
    "    np.random.uniform(60, 100, (4, 4)),\n",
    "    columns=['Sally', 'Jane', 'Billy', 'Suzy'],\n",
    "    index = pd.Index(['spelling', 'math', 'reading', 'nuclear physics'], name='subject')\n",
    ").round(1).reset_index()\n",
    "df"
   ]
  },
  {
   "cell_type": "markdown",
   "id": "85757d7c",
   "metadata": {},
   "source": [
    "- what is the average spelling grade?\n",
    "- What is Jane's average grade?\n",
    "\n",
    "Sometimes it is desirable to \"untidy\" the data for quick analysis / visualization. E.g. spread subject out to columns, students as rows."
   ]
  },
  {
   "cell_type": "markdown",
   "id": "6cabcf31",
   "metadata": {},
   "source": [
    "### Multiple vars in 2 columns\n",
    "\n",
    "- \"incorrect melt\""
   ]
  },
  {
   "cell_type": "code",
   "execution_count": null,
   "id": "1bca31a2",
   "metadata": {},
   "outputs": [],
   "source": [
    "df = pd.read_sql('SELECT * FROM gapminder1', DB_URL)\n",
    "df.head()"
   ]
  },
  {
   "cell_type": "markdown",
   "id": "5101e814",
   "metadata": {},
   "source": [
    "### Another gnarly example"
   ]
  },
  {
   "cell_type": "code",
   "execution_count": null,
   "id": "aa1833a0",
   "metadata": {},
   "outputs": [],
   "source": [
    "df = pd.read_sql('SELECT * FROM gapminder2', DB_URL)\n",
    "df.head()"
   ]
  },
  {
   "cell_type": "code",
   "execution_count": null,
   "id": "2970eebd",
   "metadata": {},
   "outputs": [],
   "source": [
    "df = df.melt(id_vars='country')\n",
    "df['year'] = df.variable.str[-4:]\n",
    "df['measure'] = df.variable.str[:-5]\n",
    "df = df.drop(columns=['variable'])\n",
    "df = df.pivot_table('value', ['country', 'year'], 'measure').reset_index()\n",
    "df.columns.name = ''\n",
    "df"
   ]
  },
  {
   "cell_type": "markdown",
   "id": "75605016",
   "metadata": {},
   "source": [
    "### A More Complex Example\n",
    "\n",
    "This one is the same as the last one in the curriculum."
   ]
  },
  {
   "cell_type": "code",
   "execution_count": null,
   "id": "59e29051",
   "metadata": {},
   "outputs": [],
   "source": [
    "sales = pd.read_sql('SELECT * FROM sales', DB_URL)\n",
    "sales"
   ]
  },
  {
   "cell_type": "code",
   "execution_count": null,
   "id": "cc2533ee",
   "metadata": {},
   "outputs": [],
   "source": [
    "sales_melt = sales.melt(id_vars='Product', var_name='year_and_measure')\n",
    "\n",
    "year_and_measure_df = sales_melt.year_and_measure.str.split(' ', expand=True)\n",
    "year_and_measure_df.columns = ['year', 'measure']\n",
    "\n",
    "sales2 = pd.concat([sales_melt, year_and_measure_df], axis=1).drop(columns='year_and_measure')\n",
    "\n",
    "sales_tidy = sales2.pivot_table(index=['Product', 'year'], columns='measure', values='value')\n",
    "\n",
    "sales_tidy.columns.name = ''\n",
    "sales_tidy.reset_index(inplace=True)\n",
    "sales_tidy"
   ]
  }
 ],
 "metadata": {
  "jupytext": {
   "cell_metadata_filter": "-all",
   "main_language": "python",
   "notebook_metadata_filter": "-all"
  },
  "kernelspec": {
   "display_name": "Python 3",
   "language": "python",
   "name": "python3"
  },
  "language_info": {
   "codemirror_mode": {
    "name": "ipython",
    "version": 3
   },
   "file_extension": ".py",
   "mimetype": "text/x-python",
   "name": "python",
   "nbconvert_exporter": "python",
   "pygments_lexer": "ipython3",
   "version": "3.8.8"
  }
 },
 "nbformat": 4,
 "nbformat_minor": 5
}
